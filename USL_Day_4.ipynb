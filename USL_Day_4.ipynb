{
 "cells": [
  {
   "cell_type": "code",
   "execution_count": 81,
   "id": "aa2e95eb",
   "metadata": {},
   "outputs": [],
   "source": [
    "import numpy as np\n",
    "import pandas as pd\n",
    "import seaborn as sns\n",
    "import matplotlib.pyplot as plt\n",
    "import warnings\n",
    "warnings.filterwarnings('ignore')\n",
    "\n",
    "from sklearn.preprocessing import StandardScaler\n",
    "\n",
    "from sklearn.cluster import KMeans, AgglomerativeClustering, DBSCAN\n",
    "\n",
    "from yellowbrick.cluster import KElbowVisualizer,SilhouetteVisualizer\n",
    "from sklearn.metrics import silhouette_score\n",
    "\n",
    "from scipy.cluster.hierarchy import linkage, cophenet, dendrogram\n",
    "\n",
    "np.set_printoptions(suppress=True)   # To avoid number in exp form\n",
    "\n",
    "from sklearn.metrics.pairwise import euclidean_distances"
   ]
  },
  {
   "cell_type": "code",
   "execution_count": 82,
   "id": "f956f76d",
   "metadata": {},
   "outputs": [],
   "source": [
    "data=pd.read_excel('pca data.xlsx')"
   ]
  },
  {
   "cell_type": "code",
   "execution_count": 83,
   "id": "a8241554",
   "metadata": {},
   "outputs": [
    {
     "data": {
      "text/html": [
       "<div>\n",
       "<style scoped>\n",
       "    .dataframe tbody tr th:only-of-type {\n",
       "        vertical-align: middle;\n",
       "    }\n",
       "\n",
       "    .dataframe tbody tr th {\n",
       "        vertical-align: top;\n",
       "    }\n",
       "\n",
       "    .dataframe thead th {\n",
       "        text-align: right;\n",
       "    }\n",
       "</style>\n",
       "<table border=\"1\" class=\"dataframe\">\n",
       "  <thead>\n",
       "    <tr style=\"text-align: right;\">\n",
       "      <th></th>\n",
       "      <th>AccelSec</th>\n",
       "      <th>TopSpeed_KmH</th>\n",
       "      <th>Range_Km</th>\n",
       "    </tr>\n",
       "  </thead>\n",
       "  <tbody>\n",
       "    <tr>\n",
       "      <th>0</th>\n",
       "      <td>4.6</td>\n",
       "      <td>233</td>\n",
       "      <td>450</td>\n",
       "    </tr>\n",
       "    <tr>\n",
       "      <th>1</th>\n",
       "      <td>10.0</td>\n",
       "      <td>160</td>\n",
       "      <td>270</td>\n",
       "    </tr>\n",
       "    <tr>\n",
       "      <th>2</th>\n",
       "      <td>4.7</td>\n",
       "      <td>210</td>\n",
       "      <td>400</td>\n",
       "    </tr>\n",
       "    <tr>\n",
       "      <th>3</th>\n",
       "      <td>6.8</td>\n",
       "      <td>180</td>\n",
       "      <td>360</td>\n",
       "    </tr>\n",
       "    <tr>\n",
       "      <th>4</th>\n",
       "      <td>9.5</td>\n",
       "      <td>145</td>\n",
       "      <td>170</td>\n",
       "    </tr>\n",
       "    <tr>\n",
       "      <th>5</th>\n",
       "      <td>2.8</td>\n",
       "      <td>250</td>\n",
       "      <td>610</td>\n",
       "    </tr>\n",
       "    <tr>\n",
       "      <th>6</th>\n",
       "      <td>9.6</td>\n",
       "      <td>150</td>\n",
       "      <td>190</td>\n",
       "    </tr>\n",
       "    <tr>\n",
       "      <th>7</th>\n",
       "      <td>8.1</td>\n",
       "      <td>150</td>\n",
       "      <td>275</td>\n",
       "    </tr>\n",
       "    <tr>\n",
       "      <th>8</th>\n",
       "      <td>5.6</td>\n",
       "      <td>225</td>\n",
       "      <td>310</td>\n",
       "    </tr>\n",
       "    <tr>\n",
       "      <th>9</th>\n",
       "      <td>6.3</td>\n",
       "      <td>180</td>\n",
       "      <td>400</td>\n",
       "    </tr>\n",
       "    <tr>\n",
       "      <th>10</th>\n",
       "      <td>5.1</td>\n",
       "      <td>180</td>\n",
       "      <td>370</td>\n",
       "    </tr>\n",
       "    <tr>\n",
       "      <th>11</th>\n",
       "      <td>7.9</td>\n",
       "      <td>144</td>\n",
       "      <td>220</td>\n",
       "    </tr>\n",
       "    <tr>\n",
       "      <th>12</th>\n",
       "      <td>7.9</td>\n",
       "      <td>167</td>\n",
       "      <td>400</td>\n",
       "    </tr>\n",
       "    <tr>\n",
       "      <th>13</th>\n",
       "      <td>4.0</td>\n",
       "      <td>200</td>\n",
       "      <td>450</td>\n",
       "    </tr>\n",
       "    <tr>\n",
       "      <th>14</th>\n",
       "      <td>9.7</td>\n",
       "      <td>165</td>\n",
       "      <td>250</td>\n",
       "    </tr>\n",
       "  </tbody>\n",
       "</table>\n",
       "</div>"
      ],
      "text/plain": [
       "    AccelSec  TopSpeed_KmH  Range_Km\n",
       "0        4.6           233       450\n",
       "1       10.0           160       270\n",
       "2        4.7           210       400\n",
       "3        6.8           180       360\n",
       "4        9.5           145       170\n",
       "5        2.8           250       610\n",
       "6        9.6           150       190\n",
       "7        8.1           150       275\n",
       "8        5.6           225       310\n",
       "9        6.3           180       400\n",
       "10       5.1           180       370\n",
       "11       7.9           144       220\n",
       "12       7.9           167       400\n",
       "13       4.0           200       450\n",
       "14       9.7           165       250"
      ]
     },
     "execution_count": 83,
     "metadata": {},
     "output_type": "execute_result"
    }
   ],
   "source": [
    "data"
   ]
  },
  {
   "cell_type": "markdown",
   "id": "3679fbef",
   "metadata": {},
   "source": [
    "## Find out the principle component for this data"
   ]
  },
  {
   "cell_type": "markdown",
   "id": "13edfa8f",
   "metadata": {},
   "source": [
    "### Step 1 : Standardize"
   ]
  },
  {
   "cell_type": "code",
   "execution_count": 84,
   "id": "2ece261f",
   "metadata": {},
   "outputs": [],
   "source": [
    "sc= StandardScaler()"
   ]
  },
  {
   "cell_type": "code",
   "execution_count": 85,
   "id": "1f8d7ea1",
   "metadata": {},
   "outputs": [
    {
     "data": {
      "text/html": [
       "<div>\n",
       "<style scoped>\n",
       "    .dataframe tbody tr th:only-of-type {\n",
       "        vertical-align: middle;\n",
       "    }\n",
       "\n",
       "    .dataframe tbody tr th {\n",
       "        vertical-align: top;\n",
       "    }\n",
       "\n",
       "    .dataframe thead th {\n",
       "        text-align: right;\n",
       "    }\n",
       "</style>\n",
       "<table border=\"1\" class=\"dataframe\">\n",
       "  <thead>\n",
       "    <tr style=\"text-align: right;\">\n",
       "      <th></th>\n",
       "      <th>AccelSec</th>\n",
       "      <th>TopSpeed_KmH</th>\n",
       "      <th>Range_Km</th>\n",
       "    </tr>\n",
       "  </thead>\n",
       "  <tbody>\n",
       "    <tr>\n",
       "      <th>0</th>\n",
       "      <td>-0.998198</td>\n",
       "      <td>1.540888</td>\n",
       "      <td>0.954850</td>\n",
       "    </tr>\n",
       "    <tr>\n",
       "      <th>1</th>\n",
       "      <td>1.408172</td>\n",
       "      <td>-0.690954</td>\n",
       "      <td>-0.631670</td>\n",
       "    </tr>\n",
       "    <tr>\n",
       "      <th>2</th>\n",
       "      <td>-0.953636</td>\n",
       "      <td>0.837705</td>\n",
       "      <td>0.514150</td>\n",
       "    </tr>\n",
       "    <tr>\n",
       "      <th>3</th>\n",
       "      <td>-0.017825</td>\n",
       "      <td>-0.079490</td>\n",
       "      <td>0.161590</td>\n",
       "    </tr>\n",
       "    <tr>\n",
       "      <th>4</th>\n",
       "      <td>1.185360</td>\n",
       "      <td>-1.149551</td>\n",
       "      <td>-1.513071</td>\n",
       "    </tr>\n",
       "    <tr>\n",
       "      <th>5</th>\n",
       "      <td>-1.800321</td>\n",
       "      <td>2.060632</td>\n",
       "      <td>2.365091</td>\n",
       "    </tr>\n",
       "    <tr>\n",
       "      <th>6</th>\n",
       "      <td>1.229922</td>\n",
       "      <td>-0.996686</td>\n",
       "      <td>-1.336791</td>\n",
       "    </tr>\n",
       "    <tr>\n",
       "      <th>7</th>\n",
       "      <td>0.561486</td>\n",
       "      <td>-0.996686</td>\n",
       "      <td>-0.587600</td>\n",
       "    </tr>\n",
       "    <tr>\n",
       "      <th>8</th>\n",
       "      <td>-0.552574</td>\n",
       "      <td>1.296303</td>\n",
       "      <td>-0.279110</td>\n",
       "    </tr>\n",
       "    <tr>\n",
       "      <th>9</th>\n",
       "      <td>-0.240637</td>\n",
       "      <td>-0.079490</td>\n",
       "      <td>0.514150</td>\n",
       "    </tr>\n",
       "    <tr>\n",
       "      <th>10</th>\n",
       "      <td>-0.775386</td>\n",
       "      <td>-0.079490</td>\n",
       "      <td>0.249730</td>\n",
       "    </tr>\n",
       "    <tr>\n",
       "      <th>11</th>\n",
       "      <td>0.472362</td>\n",
       "      <td>-1.180125</td>\n",
       "      <td>-1.072370</td>\n",
       "    </tr>\n",
       "    <tr>\n",
       "      <th>12</th>\n",
       "      <td>0.472362</td>\n",
       "      <td>-0.476942</td>\n",
       "      <td>0.514150</td>\n",
       "    </tr>\n",
       "    <tr>\n",
       "      <th>13</th>\n",
       "      <td>-1.265572</td>\n",
       "      <td>0.531973</td>\n",
       "      <td>0.954850</td>\n",
       "    </tr>\n",
       "    <tr>\n",
       "      <th>14</th>\n",
       "      <td>1.274485</td>\n",
       "      <td>-0.538088</td>\n",
       "      <td>-0.807950</td>\n",
       "    </tr>\n",
       "  </tbody>\n",
       "</table>\n",
       "</div>"
      ],
      "text/plain": [
       "    AccelSec  TopSpeed_KmH  Range_Km\n",
       "0  -0.998198      1.540888  0.954850\n",
       "1   1.408172     -0.690954 -0.631670\n",
       "2  -0.953636      0.837705  0.514150\n",
       "3  -0.017825     -0.079490  0.161590\n",
       "4   1.185360     -1.149551 -1.513071\n",
       "5  -1.800321      2.060632  2.365091\n",
       "6   1.229922     -0.996686 -1.336791\n",
       "7   0.561486     -0.996686 -0.587600\n",
       "8  -0.552574      1.296303 -0.279110\n",
       "9  -0.240637     -0.079490  0.514150\n",
       "10 -0.775386     -0.079490  0.249730\n",
       "11  0.472362     -1.180125 -1.072370\n",
       "12  0.472362     -0.476942  0.514150\n",
       "13 -1.265572      0.531973  0.954850\n",
       "14  1.274485     -0.538088 -0.807950"
      ]
     },
     "execution_count": 85,
     "metadata": {},
     "output_type": "execute_result"
    }
   ],
   "source": [
    "data_s=sc.fit_transform(data)\n",
    "data_s=pd.DataFrame(data_s,columns=data.columns)\n",
    "data_s"
   ]
  },
  {
   "cell_type": "markdown",
   "id": "e2c17ef7",
   "metadata": {},
   "source": [
    "### Step 2 : Covariance Matrix"
   ]
  },
  {
   "cell_type": "code",
   "execution_count": 86,
   "id": "a5ac3903",
   "metadata": {},
   "outputs": [
    {
     "data": {
      "text/plain": [
       "array([[ 1.07142857, -0.92455387, -0.93045171],\n",
       "       [-0.92455387,  1.07142857,  0.8855046 ],\n",
       "       [-0.93045171,  0.8855046 ,  1.07142857]])"
      ]
     },
     "execution_count": 86,
     "metadata": {},
     "output_type": "execute_result"
    }
   ],
   "source": [
    "cov_mat=np.cov(data_s.T)\n",
    "cov_mat"
   ]
  },
  {
   "cell_type": "code",
   "execution_count": 87,
   "id": "19a11248",
   "metadata": {},
   "outputs": [
    {
     "data": {
      "text/plain": [
       "(3, 3)"
      ]
     },
     "execution_count": 87,
     "metadata": {},
     "output_type": "execute_result"
    }
   ],
   "source": [
    "cov_mat.shape"
   ]
  },
  {
   "cell_type": "markdown",
   "id": "f4cfa00b",
   "metadata": {},
   "source": [
    "### Step 3 : Eigen value, Eigen vector of cov mat"
   ]
  },
  {
   "cell_type": "code",
   "execution_count": 88,
   "id": "56233f93",
   "metadata": {},
   "outputs": [],
   "source": [
    "eig_val,eig_vec=np.linalg.eig(cov_mat)"
   ]
  },
  {
   "cell_type": "code",
   "execution_count": 89,
   "id": "c0736c9f",
   "metadata": {},
   "outputs": [
    {
     "data": {
      "text/plain": [
       "array([2.89857911, 0.1295811 , 0.18612551])"
      ]
     },
     "execution_count": 89,
     "metadata": {},
     "output_type": "execute_result"
    }
   ],
   "source": [
    "eig_val"
   ]
  },
  {
   "cell_type": "code",
   "execution_count": 90,
   "id": "1c3071ce",
   "metadata": {},
   "outputs": [
    {
     "data": {
      "text/plain": [
       "array([[ 0.58317464, -0.81091338, -0.04823714],\n",
       "       [-0.57378162, -0.36915023, -0.73109696],\n",
       "       [-0.57504956, -0.45403479,  0.68056625]])"
      ]
     },
     "execution_count": 90,
     "metadata": {},
     "output_type": "execute_result"
    }
   ],
   "source": [
    "eig_vec"
   ]
  },
  {
   "cell_type": "markdown",
   "id": "4d8357c8",
   "metadata": {},
   "source": [
    "### Step 4 : Sort the eigen value in Desc order"
   ]
  },
  {
   "cell_type": "code",
   "execution_count": 91,
   "id": "d659c39e",
   "metadata": {},
   "outputs": [],
   "source": [
    "eig_val1=eig_val[0]\n",
    "eig_val2=eig_val[2]\n",
    "eig_val3=eig_val[1]"
   ]
  },
  {
   "cell_type": "code",
   "execution_count": 92,
   "id": "7ac02ddc",
   "metadata": {},
   "outputs": [],
   "source": [
    "eig_vec1=eig_vec[:,0]\n",
    "eig_vec2=eig_vec[:,2]\n",
    "eig_vec3=eig_vec[:,1]"
   ]
  },
  {
   "cell_type": "markdown",
   "id": "635fd14c",
   "metadata": {},
   "source": [
    "### Step 5 : Find out PC's"
   ]
  },
  {
   "cell_type": "code",
   "execution_count": 93,
   "id": "42b1d836",
   "metadata": {},
   "outputs": [],
   "source": [
    "pcs_data=pd.DataFrame(columns=['PC1','PC2','PC3'])"
   ]
  },
  {
   "cell_type": "code",
   "execution_count": 94,
   "id": "99f37572",
   "metadata": {},
   "outputs": [],
   "source": [
    "pcs_data['PC1']=data_s.dot(eig_vec1)\n",
    "pcs_data['PC2']=data_s.dot(eig_vec2)\n",
    "pcs_data['PC3']=data_s.dot(eig_vec3)"
   ]
  },
  {
   "cell_type": "code",
   "execution_count": 95,
   "id": "3c52302b",
   "metadata": {},
   "outputs": [
    {
     "data": {
      "text/html": [
       "<div>\n",
       "<style scoped>\n",
       "    .dataframe tbody tr th:only-of-type {\n",
       "        vertical-align: middle;\n",
       "    }\n",
       "\n",
       "    .dataframe tbody tr th {\n",
       "        vertical-align: top;\n",
       "    }\n",
       "\n",
       "    .dataframe thead th {\n",
       "        text-align: right;\n",
       "    }\n",
       "</style>\n",
       "<table border=\"1\" class=\"dataframe\">\n",
       "  <thead>\n",
       "    <tr style=\"text-align: right;\">\n",
       "      <th></th>\n",
       "      <th>PC1</th>\n",
       "      <th>PC2</th>\n",
       "      <th>PC3</th>\n",
       "    </tr>\n",
       "  </thead>\n",
       "  <tbody>\n",
       "    <tr>\n",
       "      <th>0</th>\n",
       "      <td>-2.015343</td>\n",
       "      <td>-0.428549</td>\n",
       "      <td>-0.192902</td>\n",
       "    </tr>\n",
       "    <tr>\n",
       "      <th>1</th>\n",
       "      <td>1.580909</td>\n",
       "      <td>0.007335</td>\n",
       "      <td>-0.600040</td>\n",
       "    </tr>\n",
       "    <tr>\n",
       "      <th>2</th>\n",
       "      <td>-1.332458</td>\n",
       "      <td>-0.216530</td>\n",
       "      <td>0.230635</td>\n",
       "    </tr>\n",
       "    <tr>\n",
       "      <th>3</th>\n",
       "      <td>-0.057707</td>\n",
       "      <td>0.168948</td>\n",
       "      <td>-0.029569</td>\n",
       "    </tr>\n",
       "    <tr>\n",
       "      <th>4</th>\n",
       "      <td>2.220954</td>\n",
       "      <td>-0.246490</td>\n",
       "      <td>0.150120</td>\n",
       "    </tr>\n",
       "    <tr>\n",
       "      <th>5</th>\n",
       "      <td>-3.592299</td>\n",
       "      <td>0.189922</td>\n",
       "      <td>-0.374612</td>\n",
       "    </tr>\n",
       "    <tr>\n",
       "      <th>6</th>\n",
       "      <td>2.057860</td>\n",
       "      <td>-0.240429</td>\n",
       "      <td>-0.022484</td>\n",
       "    </tr>\n",
       "    <tr>\n",
       "      <th>7</th>\n",
       "      <td>1.237224</td>\n",
       "      <td>0.301688</td>\n",
       "      <td>0.179401</td>\n",
       "    </tr>\n",
       "    <tr>\n",
       "      <th>8</th>\n",
       "      <td>-0.905540</td>\n",
       "      <td>-1.111021</td>\n",
       "      <td>0.096285</td>\n",
       "    </tr>\n",
       "    <tr>\n",
       "      <th>9</th>\n",
       "      <td>-0.390385</td>\n",
       "      <td>0.419636</td>\n",
       "      <td>-0.008962</td>\n",
       "    </tr>\n",
       "    <tr>\n",
       "      <th>10</th>\n",
       "      <td>-0.550183</td>\n",
       "      <td>0.265475</td>\n",
       "      <td>0.544728</td>\n",
       "    </tr>\n",
       "    <tr>\n",
       "      <th>11</th>\n",
       "      <td>1.569269</td>\n",
       "      <td>0.110181</td>\n",
       "      <td>0.539493</td>\n",
       "    </tr>\n",
       "    <tr>\n",
       "      <th>12</th>\n",
       "      <td>0.253468</td>\n",
       "      <td>0.675818</td>\n",
       "      <td>-0.440423</td>\n",
       "    </tr>\n",
       "    <tr>\n",
       "      <th>13</th>\n",
       "      <td>-1.592373</td>\n",
       "      <td>0.321963</td>\n",
       "      <td>0.396356</td>\n",
       "    </tr>\n",
       "    <tr>\n",
       "      <th>14</th>\n",
       "      <td>1.516604</td>\n",
       "      <td>-0.217947</td>\n",
       "      <td>-0.468024</td>\n",
       "    </tr>\n",
       "  </tbody>\n",
       "</table>\n",
       "</div>"
      ],
      "text/plain": [
       "         PC1       PC2       PC3\n",
       "0  -2.015343 -0.428549 -0.192902\n",
       "1   1.580909  0.007335 -0.600040\n",
       "2  -1.332458 -0.216530  0.230635\n",
       "3  -0.057707  0.168948 -0.029569\n",
       "4   2.220954 -0.246490  0.150120\n",
       "5  -3.592299  0.189922 -0.374612\n",
       "6   2.057860 -0.240429 -0.022484\n",
       "7   1.237224  0.301688  0.179401\n",
       "8  -0.905540 -1.111021  0.096285\n",
       "9  -0.390385  0.419636 -0.008962\n",
       "10 -0.550183  0.265475  0.544728\n",
       "11  1.569269  0.110181  0.539493\n",
       "12  0.253468  0.675818 -0.440423\n",
       "13 -1.592373  0.321963  0.396356\n",
       "14  1.516604 -0.217947 -0.468024"
      ]
     },
     "execution_count": 95,
     "metadata": {},
     "output_type": "execute_result"
    }
   ],
   "source": [
    "pcs_data"
   ]
  },
  {
   "cell_type": "code",
   "execution_count": 96,
   "id": "3fab344c",
   "metadata": {},
   "outputs": [
    {
     "data": {
      "text/plain": [
       "<Axes: >"
      ]
     },
     "execution_count": 96,
     "metadata": {},
     "output_type": "execute_result"
    },
    {
     "data": {
      "image/png": "[encoded data removed]",
      "text/plain": [
       "<Figure size 800x550 with 2 Axes>"
      ]
     },
     "metadata": {},
     "output_type": "display_data"
    }
   ],
   "source": [
    "sns.heatmap(pcs_data.corr(),annot=True)"
   ]
  },
  {
   "cell_type": "markdown",
   "id": "110d680f",
   "metadata": {},
   "source": [
    "### Step 6 : Find the explainded variance ratio"
   ]
  },
  {
   "cell_type": "code",
   "execution_count": 97,
   "id": "ef2328c6",
   "metadata": {},
   "outputs": [
    {
     "data": {
      "text/plain": [
       "0.9017801672776881"
      ]
     },
     "execution_count": 97,
     "metadata": {},
     "output_type": "execute_result"
    }
   ],
   "source": [
    "evr_val1=eig_val1/(np.sum(eig_val))\n",
    "evr_val1"
   ]
  },
  {
   "cell_type": "code",
   "execution_count": 98,
   "id": "f4cea686",
   "metadata": {},
   "outputs": [
    {
     "data": {
      "text/plain": [
       "0.05790571365427059"
      ]
     },
     "execution_count": 98,
     "metadata": {},
     "output_type": "execute_result"
    }
   ],
   "source": [
    "evr_val2=eig_val2/(np.sum(eig_val))\n",
    "evr_val2"
   ]
  },
  {
   "cell_type": "code",
   "execution_count": 99,
   "id": "807437d7",
   "metadata": {},
   "outputs": [
    {
     "data": {
      "text/plain": [
       "0.04031411906804138"
      ]
     },
     "execution_count": 99,
     "metadata": {},
     "output_type": "execute_result"
    }
   ],
   "source": [
    "evr_val3=eig_val3/(np.sum(eig_val))\n",
    "evr_val3"
   ]
  },
  {
   "cell_type": "code",
   "execution_count": 100,
   "id": "1553acb0",
   "metadata": {},
   "outputs": [
    {
     "data": {
      "text/plain": [
       "1.0"
      ]
     },
     "execution_count": 100,
     "metadata": {},
     "output_type": "execute_result"
    }
   ],
   "source": [
    "evr_val1+evr_val2+evr_val3"
   ]
  },
  {
   "cell_type": "code",
   "execution_count": 101,
   "id": "fba27848",
   "metadata": {},
   "outputs": [
    {
     "data": {
      "text/plain": [
       "<Axes: xlabel='PC1', ylabel='PC2'>"
      ]
     },
     "execution_count": 101,
     "metadata": {},
     "output_type": "execute_result"
    },
    {
     "data": {
      "image/png": "[encoded data removed]",
      "text/plain": [
       "<Figure size 800x550 with 1 Axes>"
      ]
     },
     "metadata": {},
     "output_type": "display_data"
    }
   ],
   "source": [
    "sns.scatterplot(x=pcs_data['PC1'],y=pcs_data['PC2'])"
   ]
  },
  {
   "cell_type": "markdown",
   "id": "f50f9b90",
   "metadata": {},
   "source": [
    "### Now let's use PCA function from sklearn"
   ]
  },
  {
   "cell_type": "code",
   "execution_count": 102,
   "id": "d4842fc1",
   "metadata": {},
   "outputs": [],
   "source": [
    "from sklearn.decomposition import PCA  #(direct but have to scale the data)"
   ]
  },
  {
   "cell_type": "code",
   "execution_count": 103,
   "id": "0e765ba8",
   "metadata": {},
   "outputs": [
    {
     "data": {
      "text/html": [
       "<div>\n",
       "<style scoped>\n",
       "    .dataframe tbody tr th:only-of-type {\n",
       "        vertical-align: middle;\n",
       "    }\n",
       "\n",
       "    .dataframe tbody tr th {\n",
       "        vertical-align: top;\n",
       "    }\n",
       "\n",
       "    .dataframe thead th {\n",
       "        text-align: right;\n",
       "    }\n",
       "</style>\n",
       "<table border=\"1\" class=\"dataframe\">\n",
       "  <thead>\n",
       "    <tr style=\"text-align: right;\">\n",
       "      <th></th>\n",
       "      <th>AccelSec</th>\n",
       "      <th>TopSpeed_KmH</th>\n",
       "      <th>Range_Km</th>\n",
       "    </tr>\n",
       "  </thead>\n",
       "  <tbody>\n",
       "    <tr>\n",
       "      <th>0</th>\n",
       "      <td>-0.998198</td>\n",
       "      <td>1.540888</td>\n",
       "      <td>0.954850</td>\n",
       "    </tr>\n",
       "    <tr>\n",
       "      <th>1</th>\n",
       "      <td>1.408172</td>\n",
       "      <td>-0.690954</td>\n",
       "      <td>-0.631670</td>\n",
       "    </tr>\n",
       "    <tr>\n",
       "      <th>2</th>\n",
       "      <td>-0.953636</td>\n",
       "      <td>0.837705</td>\n",
       "      <td>0.514150</td>\n",
       "    </tr>\n",
       "    <tr>\n",
       "      <th>3</th>\n",
       "      <td>-0.017825</td>\n",
       "      <td>-0.079490</td>\n",
       "      <td>0.161590</td>\n",
       "    </tr>\n",
       "    <tr>\n",
       "      <th>4</th>\n",
       "      <td>1.185360</td>\n",
       "      <td>-1.149551</td>\n",
       "      <td>-1.513071</td>\n",
       "    </tr>\n",
       "    <tr>\n",
       "      <th>5</th>\n",
       "      <td>-1.800321</td>\n",
       "      <td>2.060632</td>\n",
       "      <td>2.365091</td>\n",
       "    </tr>\n",
       "    <tr>\n",
       "      <th>6</th>\n",
       "      <td>1.229922</td>\n",
       "      <td>-0.996686</td>\n",
       "      <td>-1.336791</td>\n",
       "    </tr>\n",
       "    <tr>\n",
       "      <th>7</th>\n",
       "      <td>0.561486</td>\n",
       "      <td>-0.996686</td>\n",
       "      <td>-0.587600</td>\n",
       "    </tr>\n",
       "    <tr>\n",
       "      <th>8</th>\n",
       "      <td>-0.552574</td>\n",
       "      <td>1.296303</td>\n",
       "      <td>-0.279110</td>\n",
       "    </tr>\n",
       "    <tr>\n",
       "      <th>9</th>\n",
       "      <td>-0.240637</td>\n",
       "      <td>-0.079490</td>\n",
       "      <td>0.514150</td>\n",
       "    </tr>\n",
       "    <tr>\n",
       "      <th>10</th>\n",
       "      <td>-0.775386</td>\n",
       "      <td>-0.079490</td>\n",
       "      <td>0.249730</td>\n",
       "    </tr>\n",
       "    <tr>\n",
       "      <th>11</th>\n",
       "      <td>0.472362</td>\n",
       "      <td>-1.180125</td>\n",
       "      <td>-1.072370</td>\n",
       "    </tr>\n",
       "    <tr>\n",
       "      <th>12</th>\n",
       "      <td>0.472362</td>\n",
       "      <td>-0.476942</td>\n",
       "      <td>0.514150</td>\n",
       "    </tr>\n",
       "    <tr>\n",
       "      <th>13</th>\n",
       "      <td>-1.265572</td>\n",
       "      <td>0.531973</td>\n",
       "      <td>0.954850</td>\n",
       "    </tr>\n",
       "    <tr>\n",
       "      <th>14</th>\n",
       "      <td>1.274485</td>\n",
       "      <td>-0.538088</td>\n",
       "      <td>-0.807950</td>\n",
       "    </tr>\n",
       "  </tbody>\n",
       "</table>\n",
       "</div>"
      ],
      "text/plain": [
       "    AccelSec  TopSpeed_KmH  Range_Km\n",
       "0  -0.998198      1.540888  0.954850\n",
       "1   1.408172     -0.690954 -0.631670\n",
       "2  -0.953636      0.837705  0.514150\n",
       "3  -0.017825     -0.079490  0.161590\n",
       "4   1.185360     -1.149551 -1.513071\n",
       "5  -1.800321      2.060632  2.365091\n",
       "6   1.229922     -0.996686 -1.336791\n",
       "7   0.561486     -0.996686 -0.587600\n",
       "8  -0.552574      1.296303 -0.279110\n",
       "9  -0.240637     -0.079490  0.514150\n",
       "10 -0.775386     -0.079490  0.249730\n",
       "11  0.472362     -1.180125 -1.072370\n",
       "12  0.472362     -0.476942  0.514150\n",
       "13 -1.265572      0.531973  0.954850\n",
       "14  1.274485     -0.538088 -0.807950"
      ]
     },
     "execution_count": 103,
     "metadata": {},
     "output_type": "execute_result"
    }
   ],
   "source": [
    "data_s"
   ]
  },
  {
   "cell_type": "code",
   "execution_count": 104,
   "id": "22649927",
   "metadata": {},
   "outputs": [],
   "source": [
    "pca=PCA(n_components=3)"
   ]
  },
  {
   "cell_type": "code",
   "execution_count": 105,
   "id": "b1e44fb2",
   "metadata": {},
   "outputs": [
    {
     "data": {
      "text/html": [
       "<div>\n",
       "<style scoped>\n",
       "    .dataframe tbody tr th:only-of-type {\n",
       "        vertical-align: middle;\n",
       "    }\n",
       "\n",
       "    .dataframe tbody tr th {\n",
       "        vertical-align: top;\n",
       "    }\n",
       "\n",
       "    .dataframe thead th {\n",
       "        text-align: right;\n",
       "    }\n",
       "</style>\n",
       "<table border=\"1\" class=\"dataframe\">\n",
       "  <thead>\n",
       "    <tr style=\"text-align: right;\">\n",
       "      <th></th>\n",
       "      <th>PC1</th>\n",
       "      <th>PC2</th>\n",
       "      <th>PC3</th>\n",
       "    </tr>\n",
       "  </thead>\n",
       "  <tbody>\n",
       "    <tr>\n",
       "      <th>0</th>\n",
       "      <td>2.015343</td>\n",
       "      <td>0.428549</td>\n",
       "      <td>0.192902</td>\n",
       "    </tr>\n",
       "    <tr>\n",
       "      <th>1</th>\n",
       "      <td>-1.580909</td>\n",
       "      <td>-0.007335</td>\n",
       "      <td>0.600040</td>\n",
       "    </tr>\n",
       "    <tr>\n",
       "      <th>2</th>\n",
       "      <td>1.332458</td>\n",
       "      <td>0.216530</td>\n",
       "      <td>-0.230635</td>\n",
       "    </tr>\n",
       "    <tr>\n",
       "      <th>3</th>\n",
       "      <td>0.057707</td>\n",
       "      <td>-0.168948</td>\n",
       "      <td>0.029569</td>\n",
       "    </tr>\n",
       "    <tr>\n",
       "      <th>4</th>\n",
       "      <td>-2.220954</td>\n",
       "      <td>0.246490</td>\n",
       "      <td>-0.150120</td>\n",
       "    </tr>\n",
       "    <tr>\n",
       "      <th>5</th>\n",
       "      <td>3.592299</td>\n",
       "      <td>-0.189922</td>\n",
       "      <td>0.374612</td>\n",
       "    </tr>\n",
       "    <tr>\n",
       "      <th>6</th>\n",
       "      <td>-2.057860</td>\n",
       "      <td>0.240429</td>\n",
       "      <td>0.022484</td>\n",
       "    </tr>\n",
       "    <tr>\n",
       "      <th>7</th>\n",
       "      <td>-1.237224</td>\n",
       "      <td>-0.301688</td>\n",
       "      <td>-0.179401</td>\n",
       "    </tr>\n",
       "    <tr>\n",
       "      <th>8</th>\n",
       "      <td>0.905540</td>\n",
       "      <td>1.111021</td>\n",
       "      <td>-0.096285</td>\n",
       "    </tr>\n",
       "    <tr>\n",
       "      <th>9</th>\n",
       "      <td>0.390385</td>\n",
       "      <td>-0.419636</td>\n",
       "      <td>0.008962</td>\n",
       "    </tr>\n",
       "    <tr>\n",
       "      <th>10</th>\n",
       "      <td>0.550183</td>\n",
       "      <td>-0.265475</td>\n",
       "      <td>-0.544728</td>\n",
       "    </tr>\n",
       "    <tr>\n",
       "      <th>11</th>\n",
       "      <td>-1.569269</td>\n",
       "      <td>-0.110181</td>\n",
       "      <td>-0.539493</td>\n",
       "    </tr>\n",
       "    <tr>\n",
       "      <th>12</th>\n",
       "      <td>-0.253468</td>\n",
       "      <td>-0.675818</td>\n",
       "      <td>0.440423</td>\n",
       "    </tr>\n",
       "    <tr>\n",
       "      <th>13</th>\n",
       "      <td>1.592373</td>\n",
       "      <td>-0.321963</td>\n",
       "      <td>-0.396356</td>\n",
       "    </tr>\n",
       "    <tr>\n",
       "      <th>14</th>\n",
       "      <td>-1.516604</td>\n",
       "      <td>0.217947</td>\n",
       "      <td>0.468024</td>\n",
       "    </tr>\n",
       "  </tbody>\n",
       "</table>\n",
       "</div>"
      ],
      "text/plain": [
       "         PC1       PC2       PC3\n",
       "0   2.015343  0.428549  0.192902\n",
       "1  -1.580909 -0.007335  0.600040\n",
       "2   1.332458  0.216530 -0.230635\n",
       "3   0.057707 -0.168948  0.029569\n",
       "4  -2.220954  0.246490 -0.150120\n",
       "5   3.592299 -0.189922  0.374612\n",
       "6  -2.057860  0.240429  0.022484\n",
       "7  -1.237224 -0.301688 -0.179401\n",
       "8   0.905540  1.111021 -0.096285\n",
       "9   0.390385 -0.419636  0.008962\n",
       "10  0.550183 -0.265475 -0.544728\n",
       "11 -1.569269 -0.110181 -0.539493\n",
       "12 -0.253468 -0.675818  0.440423\n",
       "13  1.592373 -0.321963 -0.396356\n",
       "14 -1.516604  0.217947  0.468024"
      ]
     },
     "execution_count": 105,
     "metadata": {},
     "output_type": "execute_result"
    }
   ],
   "source": [
    "pcs=pca.fit_transform(data_s)\n",
    "pcs=pd.DataFrame(pcs,columns=['PC1','PC2','PC3'])\n",
    "pcs"
   ]
  },
  {
   "cell_type": "markdown",
   "id": "b944103f",
   "metadata": {},
   "source": [
    "### Eigen Values"
   ]
  },
  {
   "cell_type": "code",
   "execution_count": 107,
   "id": "73119c93",
   "metadata": {},
   "outputs": [
    {
     "data": {
      "text/plain": [
       "array([2.89857911, 0.18612551, 0.1295811 ])"
      ]
     },
     "execution_count": 107,
     "metadata": {},
     "output_type": "execute_result"
    }
   ],
   "source": [
    "pca.explained_variance_   # Eigen Value"
   ]
  },
  {
   "cell_type": "code",
   "execution_count": 109,
   "id": "c7d03ba3",
   "metadata": {},
   "outputs": [
    {
     "data": {
      "text/plain": [
       "array([[-0.58317464,  0.04823714,  0.81091338],\n",
       "       [ 0.57378162,  0.73109696,  0.36915023],\n",
       "       [ 0.57504956, -0.68056625,  0.45403479]])"
      ]
     },
     "execution_count": 109,
     "metadata": {},
     "output_type": "execute_result"
    }
   ],
   "source": [
    "pca.components_.T     # Eigen Vector"
   ]
  },
  {
   "cell_type": "code",
   "execution_count": 111,
   "id": "6bef6672",
   "metadata": {},
   "outputs": [
    {
     "data": {
      "text/plain": [
       "array([0.90178017, 0.05790571, 0.04031412])"
      ]
     },
     "execution_count": 111,
     "metadata": {},
     "output_type": "execute_result"
    }
   ],
   "source": [
    "# Explained variance Ratio\n",
    "pca.explained_variance_ratio_"
   ]
  },
  {
   "cell_type": "code",
   "execution_count": 112,
   "id": "98cc15cb",
   "metadata": {},
   "outputs": [
    {
     "data": {
      "text/plain": [
       "array([0.90178017, 0.95968588, 1.        ])"
      ]
     },
     "execution_count": 112,
     "metadata": {},
     "output_type": "execute_result"
    }
   ],
   "source": [
    "np.cumsum(pca.explained_variance_ratio_)"
   ]
  },
  {
   "cell_type": "code",
   "execution_count": 113,
   "id": "9f6e35cf",
   "metadata": {},
   "outputs": [
    {
     "data": {
      "text/plain": [
       "array([0.90178017, 0.05790571, 0.04031412])"
      ]
     },
     "execution_count": 113,
     "metadata": {},
     "output_type": "execute_result"
    }
   ],
   "source": [
    "pca.explained_variance_ratio_"
   ]
  }
 ],
 "metadata": {
  "kernelspec": {
   "display_name": "Python 3 (ipykernel)",
   "language": "python",
   "name": "python3"
  },
  "language_info": {
   "codemirror_mode": {
    "name": "ipython",
    "version": 3
   },
   "file_extension": ".py",
   "mimetype": "text/x-python",
   "name": "python",
   "nbconvert_exporter": "python",
   "pygments_lexer": "ipython3",
   "version": "3.11.5"
  }
 },
 "nbformat": 4,
 "nbformat_minor": 5
}
